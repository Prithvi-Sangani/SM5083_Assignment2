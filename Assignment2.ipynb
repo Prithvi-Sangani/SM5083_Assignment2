{
  "nbformat": 4,
  "nbformat_minor": 0,
  "metadata": {
    "colab": {
      "name": "Untitled3.ipynb",
      "provenance": []
    },
    "kernelspec": {
      "name": "python3",
      "display_name": "Python 3"
    },
    "language_info": {
      "name": "python"
    }
  },
  "cells": [
    {
      "cell_type": "code",
      "metadata": {
        "colab": {
          "base_uri": "https://localhost:8080/"
        },
        "id": "o50pvrSIPfNK",
        "outputId": "039b61da-0371-4f2a-947c-28305f432967"
      },
      "source": [
        "import numpy as np\n",
        "import math\n",
        "x1 = float(input(\"x coordinate of the point A: \"))\n",
        "y1 = float(input(\"y coordinate of the point A: \"))\n",
        "x2 = float(input(\"x coordinate of the point B: \"))\n",
        "y2 = float(input(\"y coordinate of the point B: \"))\n",
        "x3 = float(input(\"x coordinate of the point C: \"))\n",
        "y3 = float(input(\"y coordinate of the point C: \"))\n",
        "x4 = float(input(\"x coordinate of the point D: \"))\n",
        "y4 = float(input(\"y coordinate of the point D: \"))\n",
        "import math\n",
        "A = np.array([[x1],[y1]]) \n",
        "B = np.array([[x2],[y2]])\n",
        "C = np.array([[x3],[y3]])\n",
        "D = np.array([[x4],[y4]])\n",
        "T = B - D \n",
        "T1 = B - A\n",
        "T2 = C - D\n",
        "I = np.array([[T1[0][0],T2[0][0]],\n",
        "             [T1[1][0],T2[1][0]]])\n",
        "K = np.linalg.inv(I)@T\n",
        "X = B - K[0][0]*(B -A) #Coordinate of point of intersection\n",
        "s1 = X - A\n",
        "s2 = X - B\n",
        "r1 = np.linalg.norm(s1) #length of AX\n",
        "r2 = np.linalg.norm(s2) #length of BX\n",
        "r = r1/r2 #ratio of AX & BX\n",
        "print('Point of intersection is: ',X) #x & y coordinate of the point \n",
        "print('ratio by which the line is divided is: ',round(r,2))"
      ],
      "execution_count": 4,
      "outputs": [
        {
          "output_type": "stream",
          "name": "stdout",
          "text": [
            "x coordinate of the point A: 2\n",
            "y coordinate of the point A: 3\n",
            "x coordinate of the point B: 3\n",
            "y coordinate of the point B: 4\n",
            "x coordinate of the point C: 3\n",
            "y coordinate of the point C: 3\n",
            "x coordinate of the point D: 5\n",
            "y coordinate of the point D: -2\n",
            "Point of intersection is:  [[2.71428571]\n",
            " [3.71428571]]\n",
            "ratio by which the line is divided is:  2.5\n"
          ]
        }
      ]
    }
  ]
}