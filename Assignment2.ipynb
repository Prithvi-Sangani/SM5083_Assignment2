{
  "nbformat": 4,
  "nbformat_minor": 0,
  "metadata": {
    "colab": {
      "name": "Assignment2.ipynb",
      "provenance": []
    },
    "kernelspec": {
      "name": "python3",
      "display_name": "Python 3"
    },
    "language_info": {
      "name": "python"
    }
  },
  "cells": [
    {
      "cell_type": "code",
      "metadata": {
        "colab": {
          "base_uri": "https://localhost:8080/"
        },
        "id": "wT-7Dvmf72rh",
        "outputId": "46f1c6ad-6c20-45fc-c362-0c293c24578d"
      },
      "source": [
        "import numpy as np\n",
        "import math\n",
        "def line(p1, p2):\n",
        "    A = (p1[1] - p2[1])\n",
        "    B = (p2[0] - p1[0])\n",
        "    C = (p1[0]*p2[1] - p2[0]*p1[1])\n",
        "    return A, B, -C\n",
        "def intersection(L1, L2):\n",
        "    D  = L1[0] * L2[1] - L1[1] * L2[0]\n",
        "    Dx = L1[2] * L2[1] - L1[1] * L2[2]\n",
        "    Dy = L1[0] * L2[2] - L1[2] * L2[0]\n",
        "    if D != 0:\n",
        "        x = Dx / D\n",
        "        y = Dy / D\n",
        "        return x,y\n",
        "    else:\n",
        "        return False\n",
        "import numpy as np\n",
        "L1 = line([2,3], [3,4]) #coordinates of point A & B\n",
        "L2 = line([3,3], [5,-2]) #coordinates of point C & D\n",
        "\n",
        "R = intersection(L1, L2)\n",
        "if R:\n",
        "    print (\"Intersection Point:\", R)\n",
        "else:\n",
        "    print (\"No intersection point found\")\n",
        "A = np.array([2,3]) #coordinates of point A\n",
        "B = np.array([3,4]) #coordinates of point B\n",
        "s1 = np.subtract(R,A)\n",
        "s2 = np.subtract(R,B)\n",
        "r1 = np.linalg.norm(s1)\n",
        "r2 = np.linalg.norm(s2) \n",
        "r = r1/r2\n",
        "print('ratio by which the line is divided is: ', round(r,2))   "
      ],
      "execution_count": 45,
      "outputs": [
        {
          "output_type": "stream",
          "name": "stdout",
          "text": [
            "Intersection Point: (2.7142857142857144, 3.7142857142857144)\n",
            "ratio by which the line is divided is:  2.5\n"
          ]
        }
      ]
    }
  ]
}